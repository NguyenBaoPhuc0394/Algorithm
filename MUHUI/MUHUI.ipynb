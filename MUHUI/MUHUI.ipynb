{
 "cells": [
  {
   "cell_type": "code",
   "execution_count": 224,
   "metadata": {},
   "outputs": [],
   "source": [
    "import pandas as pd"
   ]
  },
  {
   "cell_type": "code",
   "execution_count": 225,
   "metadata": {},
   "outputs": [
    {
     "name": "stdout",
     "output_type": "stream",
     "text": [
      "   TransactionID       Items  Probabilities    Quantity\n",
      "0              1     A, C, D           0.95     1, 3, 4\n",
      "1              2     B, C, D           0.80     1, 1, 2\n",
      "2              3     A, B, E           0.50     2, 2, 3\n",
      "3              4        C, E           0.95        2, 2\n",
      "4              5     B, D, E           0.70     1, 2, 2\n",
      "5              6     A, C, D           1.00     1, 2, 1\n",
      "6              7  A, C, D, E           0.80  3, 1, 3, 4\n",
      "7              8     B, C, E           0.76     1, 4, 1\n",
      "8              9        B, D           0.60        3, 5\n",
      "9             10        D, E           0.90        5, 2\n"
     ]
    }
   ],
   "source": [
    "df = pd.read_csv(\"data_uncertain.csv\")\n",
    "print(df)"
   ]
  },
  {
   "cell_type": "code",
   "execution_count": 226,
   "metadata": {},
   "outputs": [
    {
     "name": "stdout",
     "output_type": "stream",
     "text": [
      "   TransactionID         Items  Probabilities              Quantity\n",
      "0              1     [A, C, D]           0.95       [1.0, 3.0, 4.0]\n",
      "1              2     [B, C, D]           0.80       [1.0, 1.0, 2.0]\n",
      "2              3     [A, B, E]           0.50       [2.0, 2.0, 3.0]\n",
      "3              4        [C, E]           0.95            [2.0, 2.0]\n",
      "4              5     [B, D, E]           0.70       [1.0, 2.0, 2.0]\n",
      "5              6     [A, C, D]           1.00       [1.0, 2.0, 1.0]\n",
      "6              7  [A, C, D, E]           0.80  [3.0, 1.0, 3.0, 4.0]\n",
      "7              8     [B, C, E]           0.76       [1.0, 4.0, 1.0]\n",
      "8              9        [B, D]           0.60            [3.0, 5.0]\n",
      "9             10        [D, E]           0.90            [5.0, 2.0]\n"
     ]
    }
   ],
   "source": [
    "# Chuyển đổi các cột thành danh sách\n",
    "df['Items'] = df['Items'].apply(lambda x: x.split(', '))\n",
    "# df['Probabilities'] = df['Probabilities'].apply(lambda x: list(map(float, x.split(', '))))\n",
    "# df['Utilities'] = df['Utilities'].apply(lambda x: list(map(float, x.split(', '))))\n",
    "df['Quantity'] = df['Quantity'].apply(lambda x: list(map(float, x.split(', '))))\n",
    "# Kiểm tra lại dữ liệu\n",
    "# print(df.head())\n",
    "print(df)\n"
   ]
  },
  {
   "cell_type": "code",
   "execution_count": 227,
   "metadata": {},
   "outputs": [
    {
     "name": "stdout",
     "output_type": "stream",
     "text": [
      "   TransactionID         Items  Probabilities              Quantity\n",
      "0              1     [A, C, D]           0.95       [1.0, 3.0, 4.0]\n",
      "1              2     [B, C, D]           0.80       [1.0, 1.0, 2.0]\n",
      "2              3     [A, B, E]           0.50       [2.0, 2.0, 3.0]\n",
      "3              4        [C, E]           0.95            [2.0, 2.0]\n",
      "4              5     [B, D, E]           0.70       [1.0, 2.0, 2.0]\n",
      "5              6     [A, C, D]           1.00       [1.0, 2.0, 1.0]\n",
      "6              7  [A, C, D, E]           0.80  [3.0, 1.0, 3.0, 4.0]\n",
      "7              8     [B, C, E]           0.76       [1.0, 4.0, 1.0]\n",
      "8              9        [B, D]           0.60            [3.0, 5.0]\n",
      "9             10        [D, E]           0.90            [5.0, 2.0]\n"
     ]
    }
   ],
   "source": [
    "print(df)"
   ]
  },
  {
   "cell_type": "code",
   "execution_count": 228,
   "metadata": {},
   "outputs": [
    {
     "name": "stdout",
     "output_type": "stream",
     "text": [
      "{1: 40.0, 2: 15.0, 3: 33.0, 4: 30.0, 5: 15.0, 6: 27.0, 7: 51.0, 8: 48.0, 9: 14.0, 10: 15.0}\n"
     ]
    }
   ],
   "source": [
    "profit = {'A': 6, 'B':3,'C':10,'D':1,'E':5}\n",
    "items = set()\n",
    "for l in df['Items']:\n",
    "    for i in l:\n",
    "        items.add(i)\n",
    "items = sorted(items)\n",
    "TUET = {tid:0 for tid in df['TransactionID']}\n",
    "for i,l in enumerate(df['TransactionID']):\n",
    "    for j,o in enumerate(df['Items'][i]):\n",
    "        TUET[l] += df['Quantity'][i][j]*profit[o]\n",
    "TU = sum([i for _,i in TUET.items()])\n",
    "D = len(df['TransactionID'])\n",
    "print(TUET)"
   ]
  },
  {
   "cell_type": "code",
   "execution_count": 229,
   "metadata": {},
   "outputs": [
    {
     "name": "stdout",
     "output_type": "stream",
     "text": [
      "{'B': (125.0, 3.36), 'A': (151.0, 3.25), 'D': (177.0, 5.75), 'E': (192.0, 4.61), 'C': (211.0, 5.26)}\n"
     ]
    }
   ],
   "source": [
    "\n",
    "def GetHTWPUI(e,u):\n",
    "    HTWPUI = {}\n",
    "    twu = {}\n",
    "    pro = {}\n",
    "    for item in items:\n",
    "        twu = {i:0 for i in items}\n",
    "        pro = {i:0 for i in items}\n",
    "    for item in items:\n",
    "        for i,l in enumerate(df['Items']):\n",
    "            for j,o in enumerate(l):\n",
    "                if item == o:\n",
    "                    # pro[o] += df['Probabilities'][i][j]\n",
    "                    pro[o] += df['Probabilities'][i]\n",
    "                    twu[o] += TUET[df['TransactionID'][i]]\n",
    "                    # twu[o] += df['Probabilities'][i][j]*df['Quantity'][i][j]*profit[o]\n",
    "                    # twu[o] += df['Probabilities'][i]*df['Quantity'][i][j]*profit[o]\n",
    "    pro = {k:round(v,2) for k,v in pro.items()}\n",
    "    twu = {k:round(v,2) for k,v in twu.items()}\n",
    "    HTWPUI = {k:(twu[k], pro[k]) for k in items if twu[k] >= e*TU and pro[k] >= u*D}\n",
    "    HTWPUI = dict(sorted(HTWPUI.items(), key=lambda item: item[1][0]))\n",
    "    return HTWPUI\n",
    "print(GetHTWPUI(0,0))\n",
    "# print(GetHTWPUI(0,0)['B'][0])\n",
    "            "
   ]
  },
  {
   "cell_type": "code",
   "execution_count": 230,
   "metadata": {},
   "outputs": [
    {
     "name": "stdout",
     "output_type": "stream",
     "text": [
      "    TransactionID Item  Probability  ItemUtility (iu)  RemainingUtility (ru)\n",
      "0               1    A         0.95               6.0                   34.0\n",
      "1               1    D         0.95               4.0                   30.0\n",
      "2               1    C         0.95              30.0                    0.0\n",
      "3               2    B         0.80               3.0                   12.0\n",
      "4               2    D         0.80               2.0                   10.0\n",
      "5               2    C         0.80              10.0                    0.0\n",
      "6               3    B         0.50               6.0                   27.0\n",
      "7               3    A         0.50              12.0                   15.0\n",
      "8               3    E         0.50              15.0                    0.0\n",
      "9               4    E         0.95              10.0                   20.0\n",
      "10              4    C         0.95              20.0                    0.0\n",
      "11              5    B         0.70               3.0                   12.0\n",
      "12              5    D         0.70               2.0                   10.0\n",
      "13              5    E         0.70              10.0                    0.0\n",
      "14              6    A         1.00               6.0                   21.0\n",
      "15              6    D         1.00               1.0                   20.0\n",
      "16              6    C         1.00              20.0                    0.0\n",
      "17              7    A         0.80              18.0                   33.0\n",
      "18              7    D         0.80               3.0                   30.0\n",
      "19              7    E         0.80              20.0                   10.0\n",
      "20              7    C         0.80              10.0                    0.0\n",
      "21              8    B         0.76               3.0                   45.0\n",
      "22              8    E         0.76               5.0                   40.0\n",
      "23              8    C         0.76              40.0                    0.0\n",
      "24              9    B         0.60               9.0                    5.0\n",
      "25              9    D         0.60               5.0                    0.0\n",
      "26             10    D         0.90               5.0                   10.0\n",
      "27             10    E         0.90              10.0                    0.0\n"
     ]
    }
   ],
   "source": [
    "results = []\n",
    "HTWPUI = GetHTWPUI(0,0)\n",
    "items = list(HTWPUI.keys())\n",
    "T = TUET.copy()\n",
    "for _, row in df.iterrows():\n",
    "    tid = row['TransactionID']\n",
    "    items = row['Items']\n",
    "    quantities = row['Quantity']\n",
    "    quant = {items[i]:quantities[i] for i in range(len(items)) }\n",
    "    items = sorted(items, key= lambda x: HTWPUI[x][0])\n",
    "    probs = row['Probabilities']\n",
    "    # utilities = [quantities[i] * profit[items[i]] for i in range(len(items))]\n",
    "    utilities = [quant[items[i]] * profit[items[i]] for i in range(len(items))]\n",
    "    for i in range(len(items)):\n",
    "        item = items[i]\n",
    "        # prob = probs[i]\n",
    "        iu = utilities[i]\n",
    "        # ru = sum(utilities[i+1:])\n",
    "        ru = T[tid] - iu\n",
    "        T[tid] = ru\n",
    "        results.append({\n",
    "            'TransactionID': tid,\n",
    "            'Item': item,\n",
    "            'Probability': probs,\n",
    "            'ItemUtility (iu)': iu,\n",
    "            'RemainingUtility (ru)': ru\n",
    "        })\n",
    "\n",
    "# Chuyển kết quả thành DataFrame để dễ dàng theo dõi\n",
    "result_df = pd.DataFrame(results)\n",
    "\n",
    "# In kết quả\n",
    "print(result_df)"
   ]
  },
  {
   "cell_type": "code",
   "execution_count": 231,
   "metadata": {},
   "outputs": [],
   "source": [
    "class Pu_List:\n",
    "    def __init__(self, item):\n",
    "        self.item = item\n",
    "        self.entries = []\n",
    "    def add_entries(self, tid, probability, utility):\n",
    "        self.entries.append({'tid': tid, 'probability': probability, 'utility':utility,'re_utility': utility})"
   ]
  },
  {
   "cell_type": "code",
   "execution_count": 232,
   "metadata": {},
   "outputs": [],
   "source": [
    "def pu_list_construction(X, Xa, Xb):\n",
    "    Xab_PU_list = Pu_List(f\"{Xa.item}, {Xb.item}\")\n",
    "    for Ea in Xa.entries:\n",
    "        matching_Eb = next((Eb for Eb in Xb.entries if Eb['tid'] == Ea['tid']), None)\n",
    "        if matching_Eb is not None:  \n",
    "            if X.entries:  \n",
    "                matching_E = next((E for E in X.entries if E['tid'] == Ea['tid']), None)\n",
    "                Eab = {\n",
    "                    'tid': Ea['tid'],\n",
    "                    'probability': Ea['probability'],\n",
    "                    'utility': Ea['utility'] + matching_Eb['utility'] - matching_E['utility'],\n",
    "                    're_utility': matching_Eb['re_utility']\n",
    "                }\n",
    "            else:\n",
    "                Eab = {\n",
    "                    'tid': Ea['tid'],\n",
    "                    'probability': Ea['probability'],\n",
    "                    'utility': Ea['utility'] + matching_Eb['utility'],\n",
    "                    're_utility': matching_Eb['re_utility']\n",
    "                }\n",
    "            Xab_PU_list.add_entries(Eab['tid'], Eab['probability'], Eab['utility'], Eab['re_utility'])\n",
    "    \n",
    "    return Xab_PU_list\n"
   ]
  },
  {
   "cell_type": "code",
   "execution_count": null,
   "metadata": {},
   "outputs": [],
   "source": []
  }
 ],
 "metadata": {
  "kernelspec": {
   "display_name": "Python 3",
   "language": "python",
   "name": "python3"
  },
  "language_info": {
   "codemirror_mode": {
    "name": "ipython",
    "version": 3
   },
   "file_extension": ".py",
   "mimetype": "text/x-python",
   "name": "python",
   "nbconvert_exporter": "python",
   "pygments_lexer": "ipython3",
   "version": "3.11.3"
  }
 },
 "nbformat": 4,
 "nbformat_minor": 2
}
